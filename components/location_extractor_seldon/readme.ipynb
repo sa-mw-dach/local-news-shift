{
 "cells": [
  {
   "cell_type": "markdown",
   "id": "26447fb6-5555-4ed7-aa80-05141ac7262c",
   "metadata": {},
   "source": [
    "# ML orchestration with Seldon Core\n",
    "\n",
    "Seldon Core allows to efficiently deploy and run machine learning models as part of containerized applications. It uses a Kubernetes-native approach to declaratively define graphs of inference servers and integrates with common monitoring and service mesh tools.\n",
    "\n",
    "This notebook describes how to deploy the _location extractor_ service on OpenShift and set up advanced routing through Istio.\n",
    "\n",
    "## Prerequisites\n",
    "\n",
    "* Install the Seldon Core operator.\n",
    "* Deploy a SeldonDeployment CR, see `k8s/helm-chart/templates/location-extractor-seldon.yaml`.\n",
    "* Install OpenShift Service Mesh for advanced routing scenarios.\n",
    "\n",
    "## API specification\n",
    "\n",
    "Seldon Core exposes a generic API for inference. The location extractor service implements the following prediction interface:\n",
    "\n",
    "### Method\n",
    "\n",
    "`POST`\n",
    "\n",
    "### Endpoint\n",
    "\n",
    "`/api/v1.0/predictions`\n",
    "\n",
    "### Request JSON body\n",
    "\n",
    "```\n",
    "{\n",
    "  \"data\": {\n",
    "    \"names\": [],\n",
    "    \"ndarray\": [\"input text\"]\n",
    "  }\n",
    "}\n",
    "```\n",
    "\n",
    "### Response JSON body\n",
    "\n",
    "```\n",
    "{\n",
    "  \"data\": {\n",
    "    \"names\": [],\n",
    "    \"ndarray\": [\n",
    "      {\n",
    "        \"extracted location\": \"sample location string\",\n",
    "        \"generated address\": \"sample address string\",\n",
    "        \"latitude\": 42.0,\n",
    "        \"longitude\": 51.0\n",
    "      }\n",
    "      ...\n",
    "    ]\n",
    "  },\n",
    "  \"meta\": {\n",
    "    \"requestPath\": {\n",
    "      \"model-name\": \"image:tag\"\n",
    "    }\n",
    "  }\n",
    "}\n",
    "```\n",
    "\n",
    "Refer to [External Prediction](https://docs.seldon.io/projects/seldon-core/en/latest/reference/apis/external-prediction.html) API for further details.\n",
    "\n",
    "\n",
    "## Sample request"
   ]
  },
  {
   "cell_type": "code",
   "execution_count": null,
   "id": "427da5de-4555-4014-85ce-8db1f57f8f12",
   "metadata": {},
   "outputs": [],
   "source": [
    "from pprint import pprint\n",
    "from requests import post"
   ]
  },
  {
   "cell_type": "markdown",
   "id": "f408e630-ceb0-42dd-98be-a2e4c9cc8697",
   "metadata": {},
   "source": [
    "Replace the `endpoint` by the location extractor's Route URL:"
   ]
  },
  {
   "cell_type": "code",
   "execution_count": null,
   "id": "4399bfcc-abc0-44f1-82dd-4ded81057f73",
   "metadata": {},
   "outputs": [],
   "source": [
    "endpoint = 'http://location-extractor-localnews-demo.apps.cluster-n7nsp.n7nsp.sandbox1852.opentlc.com'\n",
    "prediction_url = f'{endpoint}/api/v1.0/predictions'"
   ]
  },
  {
   "cell_type": "markdown",
   "id": "73e474a1-f23a-4981-8e6a-247c0550cf46",
   "metadata": {},
   "source": [
    "Try different `sample` strings:"
   ]
  },
  {
   "cell_type": "code",
   "execution_count": null,
   "id": "42d17db6-abef-4044-b3e7-df89d817475e",
   "metadata": {},
   "outputs": [],
   "source": [
    "sample = 'My name is Clara and I live in Berkeley, California.'\n",
    "\n",
    "payload = {'data': {'names': [], 'ndarray': [sample]}}"
   ]
  },
  {
   "cell_type": "markdown",
   "id": "c9ec8cab-d91e-4528-9d50-90b2a6508980",
   "metadata": {},
   "source": [
    "The following location entities were detected:"
   ]
  },
  {
   "cell_type": "code",
   "execution_count": null,
   "id": "5c8e45a9-6ae1-414b-a677-c152864bf699",
   "metadata": {},
   "outputs": [],
   "source": [
    "response = post(prediction_url, json=payload)\n",
    "pprint(response.json())"
   ]
  },
  {
   "cell_type": "markdown",
   "id": "8fe949c2-8720-4990-b4eb-b2598f7a4446",
   "metadata": {},
   "source": [
    "## Advanced routing\n",
    "\n",
    "Once OpenShift Service Mesh is installed, you can integrate Seldon Core as outlined in [Working with Red Hat OpenShift Service Mesh](https://docs.seldon.io/projects/seldon-core/en/latest/ingress/openshift.html).\n",
    "\n",
    "Istio integration offers advanced routing patterns such as shadow deployments, A/B testing, canary deployments, and Multi armed Bandits. Refer to [Ingress with Istio]("
   ]
  }
 ],
 "metadata": {
  "kernelspec": {
   "display_name": "Python 3",
   "language": "python",
   "name": "python3"
  },
  "language_info": {
   "codemirror_mode": {
    "name": "ipython",
    "version": 3
   },
   "file_extension": ".py",
   "mimetype": "text/x-python",
   "name": "python",
   "nbconvert_exporter": "python",
   "pygments_lexer": "ipython3",
   "version": "3.8.12"
  }
 },
 "nbformat": 4,
 "nbformat_minor": 5
}
